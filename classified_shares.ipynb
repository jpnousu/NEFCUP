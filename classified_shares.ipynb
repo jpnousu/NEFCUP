{
 "cells": [
  {
   "cell_type": "code",
   "execution_count": 1,
   "id": "d0b945e1-e06c-4053-9ab7-c2bb62c508d3",
   "metadata": {},
   "outputs": [],
   "source": [
    "import rasterio\n",
    "import numpy as np"
   ]
  },
  {
   "cell_type": "code",
   "execution_count": 2,
   "id": "adc9f0ae-d0e1-470a-a6f8-15b879fd811b",
   "metadata": {},
   "outputs": [],
   "source": [
    "file1 = r'/appl/data/geo/luke/vmi/2021/maaluokka_vmi1x_1721.tif'\n",
    "file2 = r'/appl/data/geo/luke/vmi/2021/paatyyppi_vmi1x_1721.tif'\n",
    "file3 = r'/appl/data/geo/luke/vmi/2021/kasvupaikka_vmi1x_1721.tif'\n",
    "\n",
    "# Read data and metadata from the first file\n",
    "with rasterio.open(file1) as src:\n",
    "    maaluokka = src.read(1)\n",
    "    meta = src.meta\n",
    "    transform = src.transform\n",
    "    width = src.width\n",
    "    height = src.height\n",
    "    crs = src.crs\n",
    "\n",
    "# Compute coordinate vectors (center of each pixel along x and y)\n",
    "x_coords = np.array([transform * (i, 0) for i in range(width)])[:, 0]\n",
    "y_coords = np.array([transform * (0, j) for j in range(height)])[:, 1]\n",
    "\n",
    "# Read other rasters\n",
    "with rasterio.open(file2) as src:\n",
    "    paatyyppi = src.read(1)\n",
    "\n",
    "with rasterio.open(file3) as src:\n",
    "    kasvupaikka = src.read(1)"
   ]
  },
  {
   "cell_type": "code",
   "execution_count": 6,
   "id": "6bef04b3-a505-4d7d-9484-19be693861e2",
   "metadata": {},
   "outputs": [],
   "source": [
    "# maaluokka == 1 & paatyyppi == 1 & kasvupaikka == [1,2,3] --> 1\n",
    "# maaluokka == 1 & paatyyppi == 1 & kasvupaikka == [4,5,6,7,8,9,10] --> 2\n",
    "\n",
    "# maaluokka == 1 & paatyyppi == [2,3,4] & kasvupaikka == [1,2,3] --> 3\n",
    "# maaluokka == 1 & paatyyppi == [2,3,4] & kasvupaikka == [4,5,6,7,8,9,10] --> 4\n",
    "\n",
    "# maaluokka == 2 & paatyyppi == 1 & kasvupaikka == [1,2,3] --> 5\n",
    "# maaluokka == 2 & paatyyppi == 1 & kasvupaikka == [4,5,6,7,8,9,10] --> 6\n",
    "\n",
    "# maaluokka == 2 & paatyyppi == [2,3,4] & kasvupaikka == [1,2,3] --> 7\n",
    "# maaluokka == 2 & paatyyppi == [2,3,4] & kasvupaikka == [4,5,6,7,8,9,10] --> 8\n",
    "\n",
    "# maaluokka == 3 & paatyyppi == 1 & kasvupaikka == [1,2,3] --> 9\n",
    "# maaluokka == 3 & paatyyppi == 1 & kasvupaikka == [4,5,6,7,8,9,10] --> 10\n",
    "\n",
    "# maaluokka == 3 & paatyyppi == [2,3,4] & kasvupaikka == [1,2,3] --> 11\n",
    "# maaluokka == 3 & paatyyppi == [2,3,4] & kasvupaikka == [4,5,6,7,8,9,10] --> 12"
   ]
  },
  {
   "cell_type": "code",
   "execution_count": 3,
   "id": "0038f6f7-1cbd-49f8-b7b0-3058e6cf7450",
   "metadata": {},
   "outputs": [],
   "source": [
    "# Initialize classification array\n",
    "classification = np.zeros_like(maaluokka, dtype=np.uint8)\n",
    "\n",
    "# Define categories\n",
    "kt_ravinteikas = [1,2,3]\n",
    "kt_ei_ravinteikas = [4,5,6,7,8,9,10]\n",
    "pt_turvemaa = [2,3,4]\n",
    "\n",
    "# Apply classification rules\n",
    "classification[(maaluokka == 1) & (paatyyppi == 1) & np.isin(kasvupaikka, kt_ravinteikas)] = 1\n",
    "classification[(maaluokka == 1) & (paatyyppi == 1) & np.isin(kasvupaikka, kt_ei_ravinteikas)] = 2\n",
    "classification[(maaluokka == 1) & np.isin(paatyyppi, pt_turvemaa) & np.isin(kasvupaikka, kt_ravinteikas)] = 3\n",
    "classification[(maaluokka == 1) & np.isin(paatyyppi, pt_turvemaa) & np.isin(kasvupaikka, kt_ei_ravinteikas)] = 4\n",
    "\n",
    "classification[(maaluokka == 2) & (paatyyppi == 1) & np.isin(kasvupaikka, kt_ravinteikas)] = 5\n",
    "classification[(maaluokka == 2) & (paatyyppi == 1) & np.isin(kasvupaikka, kt_ei_ravinteikas)] = 6\n",
    "classification[(maaluokka == 2) & np.isin(paatyyppi, pt_turvemaa) & np.isin(kasvupaikka, kt_ravinteikas)] = 7\n",
    "classification[(maaluokka == 2) & np.isin(paatyyppi, pt_turvemaa) & np.isin(kasvupaikka, kt_ei_ravinteikas)] = 8\n",
    "\n",
    "classification[(maaluokka == 3) & (paatyyppi == 1) & np.isin(kasvupaikka, kt_ravinteikas)] = 9\n",
    "classification[(maaluokka == 3) & (paatyyppi == 1) & np.isin(kasvupaikka, kt_ei_ravinteikas)] = 10\n",
    "classification[(maaluokka == 3) & np.isin(paatyyppi, pt_turvemaa) & np.isin(kasvupaikka, kt_ravinteikas)] = 11\n",
    "classification[(maaluokka == 3) & np.isin(paatyyppi, pt_turvemaa) & np.isin(kasvupaikka, kt_ei_ravinteikas)] = 12"
   ]
  },
  {
   "cell_type": "code",
   "execution_count": 4,
   "id": "8635ddca-6731-4078-8284-dd352a825704",
   "metadata": {},
   "outputs": [],
   "source": [
    "output_file = r'/scratch/project_2000908/nousu/mNFI_to_NEP/classification_16.tif'\n",
    "\n",
    "with rasterio.open(output_file, \"w\", **meta) as dst:\n",
    "    dst.write(classification, 1)"
   ]
  }
 ],
 "metadata": {
  "kernelspec": {
   "display_name": "Python 3 (ipykernel)",
   "language": "python",
   "name": "python3"
  },
  "language_info": {
   "codemirror_mode": {
    "name": "ipython",
    "version": 3
   },
   "file_extension": ".py",
   "mimetype": "text/x-python",
   "name": "python",
   "nbconvert_exporter": "python",
   "pygments_lexer": "ipython3",
   "version": "3.11.6"
  }
 },
 "nbformat": 4,
 "nbformat_minor": 5
}
