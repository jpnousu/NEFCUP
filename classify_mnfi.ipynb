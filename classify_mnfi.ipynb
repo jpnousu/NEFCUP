{
 "cells": [
  {
   "cell_type": "code",
   "execution_count": 1,
   "id": "e1757e62-689a-4644-9a1c-dfea2d6f821b",
   "metadata": {},
   "outputs": [],
   "source": [
    "import xarray as xr\n",
    "import rasterio\n",
    "import os\n",
    "import rioxarray\n",
    "import gc"
   ]
  },
  {
   "cell_type": "code",
   "execution_count": 2,
   "id": "dc9a1295-a400-46f5-9017-293a5fcb5f02",
   "metadata": {},
   "outputs": [],
   "source": [
    "file = r'/scratch/project_2000908/nousu/mNFI_to_NEP/forest_data.nc'\n",
    "data = xr.open_dataset(file)"
   ]
  },
  {
   "cell_type": "code",
   "execution_count": 3,
   "id": "92c89de6-fedb-4d0f-bfff-3497ed319926",
   "metadata": {},
   "outputs": [],
   "source": [
    "subset = False\n",
    "\n",
    "if subset:\n",
    "    # 1. Get coordinate ranges\n",
    "    x_coords = data['x'].values\n",
    "    y_coords = data['y'].values\n",
    "\n",
    "    # 2. Compute lengths\n",
    "    x_len = len(x_coords)\n",
    "    y_len = len(y_coords)\n",
    "\n",
    "    # 3. Get 1/5th width and height\n",
    "    x_width = x_len // 5\n",
    "    y_height = y_len // 5\n",
    "\n",
    "    # 4. X slice in the middle\n",
    "    x_start = x_len // 2 - x_width // 2\n",
    "    x_end = x_start + x_width\n",
    "\n",
    "    # 5. Y slice around 3/4 down\n",
    "    y_start = int(y_len * 3 / 4) - y_height // 2\n",
    "    y_end = y_start + y_height\n",
    "\n",
    "    # 6. Convert to coordinate slices\n",
    "    x_slice = slice(x_coords[x_start], x_coords[x_end])\n",
    "    y_slice = slice(y_coords[y_start], y_coords[y_end])\n",
    "\n",
    "    # 7. Apply the slice\n",
    "    data = data.sel(x=x_slice, y=y_slice)"
   ]
  },
  {
   "cell_type": "code",
   "execution_count": 3,
   "id": "f3172b42-d2b2-4de8-9077-ea5d2391c852",
   "metadata": {},
   "outputs": [
    {
     "name": "stdout",
     "output_type": "stream",
     "text": [
      "Saved ika_1_1_1 to /scratch/project_2000908/nousu/mNFI_to_NEP/classified_mnfi/ika_1_1_1.tif\n",
      "Saved ppa_1_1_1 to /scratch/project_2000908/nousu/mNFI_to_NEP/classified_mnfi/ppa_1_1_1.tif\n",
      "Saved ika_1_1_2 to /scratch/project_2000908/nousu/mNFI_to_NEP/classified_mnfi/ika_1_1_2.tif\n",
      "Saved ppa_1_1_2 to /scratch/project_2000908/nousu/mNFI_to_NEP/classified_mnfi/ppa_1_1_2.tif\n",
      "Saved ika_1_2_1 to /scratch/project_2000908/nousu/mNFI_to_NEP/classified_mnfi/ika_1_2_1.tif\n",
      "Saved ppa_1_2_1 to /scratch/project_2000908/nousu/mNFI_to_NEP/classified_mnfi/ppa_1_2_1.tif\n",
      "Saved ika_1_2_2 to /scratch/project_2000908/nousu/mNFI_to_NEP/classified_mnfi/ika_1_2_2.tif\n",
      "Saved ppa_1_2_2 to /scratch/project_2000908/nousu/mNFI_to_NEP/classified_mnfi/ppa_1_2_2.tif\n",
      "Saved ika_2_1_1 to /scratch/project_2000908/nousu/mNFI_to_NEP/classified_mnfi/ika_2_1_1.tif\n",
      "Saved ppa_2_1_1 to /scratch/project_2000908/nousu/mNFI_to_NEP/classified_mnfi/ppa_2_1_1.tif\n",
      "Saved ika_2_1_2 to /scratch/project_2000908/nousu/mNFI_to_NEP/classified_mnfi/ika_2_1_2.tif\n",
      "Saved ppa_2_1_2 to /scratch/project_2000908/nousu/mNFI_to_NEP/classified_mnfi/ppa_2_1_2.tif\n",
      "Saved ika_2_2_1 to /scratch/project_2000908/nousu/mNFI_to_NEP/classified_mnfi/ika_2_2_1.tif\n",
      "Saved ppa_2_2_1 to /scratch/project_2000908/nousu/mNFI_to_NEP/classified_mnfi/ppa_2_2_1.tif\n",
      "Saved ika_2_2_2 to /scratch/project_2000908/nousu/mNFI_to_NEP/classified_mnfi/ika_2_2_2.tif\n",
      "Saved ppa_2_2_2 to /scratch/project_2000908/nousu/mNFI_to_NEP/classified_mnfi/ppa_2_2_2.tif\n",
      "Saved ika_3_1_1 to /scratch/project_2000908/nousu/mNFI_to_NEP/classified_mnfi/ika_3_1_1.tif\n",
      "Saved ppa_3_1_1 to /scratch/project_2000908/nousu/mNFI_to_NEP/classified_mnfi/ppa_3_1_1.tif\n",
      "Saved ika_3_1_2 to /scratch/project_2000908/nousu/mNFI_to_NEP/classified_mnfi/ika_3_1_2.tif\n",
      "Saved ppa_3_1_2 to /scratch/project_2000908/nousu/mNFI_to_NEP/classified_mnfi/ppa_3_1_2.tif\n",
      "Saved ika_3_2_1 to /scratch/project_2000908/nousu/mNFI_to_NEP/classified_mnfi/ika_3_2_1.tif\n",
      "Saved ppa_3_2_1 to /scratch/project_2000908/nousu/mNFI_to_NEP/classified_mnfi/ppa_3_2_1.tif\n",
      "Saved ika_3_2_2 to /scratch/project_2000908/nousu/mNFI_to_NEP/classified_mnfi/ika_3_2_2.tif\n",
      "Saved ppa_3_2_2 to /scratch/project_2000908/nousu/mNFI_to_NEP/classified_mnfi/ppa_3_2_2.tif\n"
     ]
    }
   ],
   "source": [
    "pt_kivennäismaa = [1]\n",
    "pt_turvemaa = [2,3,4]\n",
    "\n",
    "kt_ravinteikas = [1,2,3]\n",
    "kt_ei_ravinteikas = [4,5,6,7,8,9,10]\n",
    "\n",
    "# Output settings\n",
    "output_dir = r'/scratch/project_2000908/nousu/mNFI_to_NEP/classified_mnfi'\n",
    "os.makedirs(output_dir, exist_ok=True)\n",
    "crs = \"EPSG:3067\"\n",
    "nodata_value = -9999\n",
    "\n",
    "# Process each class combination individually\n",
    "for maaluokka in [1, 2, 3]:\n",
    "    for paatyyppi in [1,2]:\n",
    "        pt_luokat = pt_kivennäismaa if paatyyppi == 1 else pt_turvemaa\n",
    "        for ravinteikkuus in [1,2]:\n",
    "            kt_luokat = kt_ravinteikas if ravinteikkuus == 1 else kt_ei_ravinteikas\n",
    "\n",
    "            mask = (\n",
    "                (data['maaluokka'] == maaluokka) &\n",
    "                (data['paatyyppi'].isin(pt_luokat)) &\n",
    "                (data['kasvupaikka'].isin(kt_luokat))\n",
    "            )\n",
    "\n",
    "            for var in ['ika', 'ppa']:\n",
    "                var_name = f\"{var}_{maaluokka}_{paatyyppi}_{ravinteikkuus}\"\n",
    "                da = data[var].where(mask).astype('float32').fillna(nodata_value)\n",
    "\n",
    "                # Set CRS and nodata\n",
    "                da.rio.write_crs(crs, inplace=True)\n",
    "                da.rio.set_nodata(nodata_value, inplace=True)\n",
    "\n",
    "                # Save to raster\n",
    "                output_path = os.path.join(output_dir, f\"{var_name}.tif\")\n",
    "                da.rio.to_raster(output_path)\n",
    "\n",
    "                print(f\"Saved {var_name} to {output_path}\")\n",
    "\n",
    "                # Cleanup\n",
    "                del da\n",
    "                gc.collect()  # Free memory"
   ]
  },
  {
   "cell_type": "code",
   "execution_count": null,
   "id": "21fb0196-e762-475f-a64d-e68d6c7ce219",
   "metadata": {},
   "outputs": [],
   "source": []
  }
 ],
 "metadata": {
  "kernelspec": {
   "display_name": "Python 3 (ipykernel)",
   "language": "python",
   "name": "python3"
  },
  "language_info": {
   "codemirror_mode": {
    "name": "ipython",
    "version": 3
   },
   "file_extension": ".py",
   "mimetype": "text/x-python",
   "name": "python",
   "nbconvert_exporter": "python",
   "pygments_lexer": "ipython3",
   "version": "3.11.6"
  }
 },
 "nbformat": 4,
 "nbformat_minor": 5
}
