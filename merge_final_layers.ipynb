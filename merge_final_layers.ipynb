{
 "cells": [
  {
   "cell_type": "code",
   "execution_count": 1,
   "id": "255d61a0-8af9-4f20-b604-dd6013904e51",
   "metadata": {},
   "outputs": [],
   "source": [
    "import os\n",
    "import rasterio\n",
    "import numpy as np\n",
    "import xarray as xr"
   ]
  },
  {
   "cell_type": "code",
   "execution_count": 2,
   "id": "f0b4e869-bf13-46c2-b047-bd2c308d1177",
   "metadata": {},
   "outputs": [
    {
     "name": "stdout",
     "output_type": "stream",
     "text": [
      "Saved NetCDF to: /scratch/project_2000908/nousu/mNFI_to_NEP/FINAL_LAYERS/upscaling_layers.nc\n"
     ]
    }
   ],
   "source": [
    "# Paths\n",
    "input_dir = \"/scratch/project_2000908/nousu/mNFI_to_NEP/FINAL_LAYERS\"\n",
    "output_nc_file = \"/scratch/project_2000908/nousu/mNFI_to_NEP/FINAL_LAYERS/upscaling_layers.nc\"\n",
    "\n",
    "# Get all .tif files\n",
    "tif_files = sorted([f for f in os.listdir(input_dir) if f.endswith(\".tif\")])\n",
    "\n",
    "# Initialize storage\n",
    "data_vars = {}\n",
    "coords = {}\n",
    "\n",
    "# Read and process rasters\n",
    "for i, fname in enumerate(tif_files):\n",
    "    varname = os.path.splitext(fname)[0]  # Variable name from filename\n",
    "    path = os.path.join(input_dir, fname)\n",
    "\n",
    "    with rasterio.open(path) as src:\n",
    "        data = src.read(1)\n",
    "        nodata = src.nodata\n",
    "        data = np.where(data == nodata, np.nan, data)\n",
    "\n",
    "        # Only read coordinates once\n",
    "        if i == 0:\n",
    "            height, width = data.shape\n",
    "            transform = src.transform\n",
    "            x_coords = transform.c + transform.a * np.arange(width)\n",
    "            y_coords = transform.f + transform.e * np.arange(height)\n",
    "            coords[\"x\"] = x_coords\n",
    "            coords[\"y\"] = y_coords[::-1]  # reverse Y axis for north-up\n",
    "\n",
    "        # Add flipped data to ensure coordinate match\n",
    "        data_vars[varname] = ((\"y\", \"x\"), np.flipud(data))\n",
    "\n",
    "# Create Dataset\n",
    "ds = xr.Dataset(data_vars=data_vars, coords=coords)\n",
    "\n",
    "# Add global metadata description\n",
    "ds.attrs[\"description\"] = (\n",
    "    \"mNFI variable names follow the pattern 'ika_X_Y_Z':\\n\"\n",
    "    \" - X (1-3): land class (1 = forest, 2 = other wooded land, 3 = other land)\\n\"\n",
    "    \" - Y (1 or 2): site main class (1 = mineral, 2 = peat)\\n\"\n",
    "    \" - Z (1 or 2): site fertility  (1 = rich, 2 = poor)\"\n",
    ")\n",
    "ds['vapor_pressure_deficit'].attrs = {'units': 'kPa', 'description': 'average growing season water vapor pressure deficit (esa - PH2O_kpa)'}\n",
    "ds['air_temperature'].attrs = {'units': 'degree_Celsius', 'description': 'average temperature'}\n",
    "ds['growing_season_length'].attrs = {'units': 'number of days', 'description': 'average growing season length'}\n",
    "\n",
    "# Save to NetCDF\n",
    "ds.to_netcdf(output_nc_file)\n",
    "ds.close()\n",
    "\n",
    "print(f\"Saved NetCDF to: {output_nc_file}\")"
   ]
  },
  {
   "cell_type": "code",
   "execution_count": null,
   "id": "d615e0d7-29c0-4742-a6d6-95f33e62d260",
   "metadata": {},
   "outputs": [],
   "source": []
  }
 ],
 "metadata": {
  "kernelspec": {
   "display_name": "Python 3 (ipykernel)",
   "language": "python",
   "name": "python3"
  },
  "language_info": {
   "codemirror_mode": {
    "name": "ipython",
    "version": 3
   },
   "file_extension": ".py",
   "mimetype": "text/x-python",
   "name": "python",
   "nbconvert_exporter": "python",
   "pygments_lexer": "ipython3",
   "version": "3.11.6"
  }
 },
 "nbformat": 4,
 "nbformat_minor": 5
}
