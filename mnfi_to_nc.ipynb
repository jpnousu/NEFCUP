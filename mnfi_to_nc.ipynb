{
 "cells": [
  {
   "cell_type": "code",
   "execution_count": 1,
   "id": "bfe8be17-9ad3-42be-8c54-7d118061bb27",
   "metadata": {},
   "outputs": [],
   "source": [
    "import rasterio\n",
    "import numpy as np\n",
    "import xarray as xr\n",
    "\n",
    "# File paths\n",
    "file1 = r'/appl/data/geo/luke/vmi/2021/maaluokka_vmi1x_1721.tif'\n",
    "file2 = r'/appl/data/geo/luke/vmi/2021/paatyyppi_vmi1x_1721.tif'\n",
    "file3 = r'/appl/data/geo/luke/vmi/2021/kasvupaikka_vmi1x_1721.tif'\n",
    "file4 = r'/appl/data/geo/luke/vmi/2021/ppa_vmi1x_1721.tif'\n",
    "file5 = r'/appl/data/geo/luke/vmi/2021/ika_vmi1x_1721.tif'\n",
    "\n",
    "# Read data and metadata from the first file\n",
    "with rasterio.open(file1) as src:\n",
    "    maaluokka = src.read(1)\n",
    "    meta = src.meta\n",
    "    transform = src.transform\n",
    "    width = src.width\n",
    "    height = src.height\n",
    "    crs = src.crs\n",
    "\n",
    "# Compute coordinate vectors (center of each pixel along x and y)\n",
    "x_coords = np.array([transform * (i, 0) for i in range(width)])[:, 0]\n",
    "y_coords = np.array([transform * (0, j) for j in range(height)])[:, 1]\n",
    "\n",
    "# Read other rasters\n",
    "with rasterio.open(file2) as src:\n",
    "    paatyyppi = src.read(1)\n",
    "\n",
    "with rasterio.open(file3) as src:\n",
    "    kasvupaikka = src.read(1)\n",
    "\n",
    "with rasterio.open(file4) as src:\n",
    "    ppa = src.read(1)\n",
    "\n",
    "with rasterio.open(file5) as src:\n",
    "    ika = src.read(1)\n",
    "\n",
    "# Create xarray dataset\n",
    "ds = xr.Dataset(\n",
    "    data_vars={\n",
    "        'maaluokka': (('y', 'x'), maaluokka),\n",
    "        'paatyyppi': (('y', 'x'), paatyyppi),\n",
    "        'kasvupaikka': (('y', 'x'), kasvupaikka),\n",
    "        'ppa':        (('y', 'x'), ppa),\n",
    "        'ika':        (('y', 'x'), ika),\n",
    "    },\n",
    "    coords={\n",
    "        'x': x_coords,\n",
    "        'y': y_coords\n",
    "    },\n",
    "    attrs={\n",
    "        'crs': crs.to_string()\n",
    "    }\n",
    ")"
   ]
  },
  {
   "cell_type": "code",
   "execution_count": 3,
   "id": "e00abc3e-48af-4106-871a-1697fa32a96d",
   "metadata": {},
   "outputs": [
    {
     "name": "stdout",
     "output_type": "stream",
     "text": [
      "Saved to /scratch/project_2000908/nousu/mNFI_to_NEP/forest_data.nc\n"
     ]
    }
   ],
   "source": [
    "# Save to NetCDF\n",
    "output_file = r'/scratch/project_2000908/nousu/mNFI_to_NEP/forest_data.nc'\n",
    "ds.to_netcdf(output_file)\n",
    "\n",
    "print(f\"Saved to {output_file}\")"
   ]
  },
  {
   "cell_type": "code",
   "execution_count": null,
   "id": "7904b227-d1d8-44d2-abbb-4e3ff0d8314e",
   "metadata": {},
   "outputs": [],
   "source": []
  }
 ],
 "metadata": {
  "kernelspec": {
   "display_name": "Python 3 (ipykernel)",
   "language": "python",
   "name": "python3"
  },
  "language_info": {
   "codemirror_mode": {
    "name": "ipython",
    "version": 3
   },
   "file_extension": ".py",
   "mimetype": "text/x-python",
   "name": "python",
   "nbconvert_exporter": "python",
   "pygments_lexer": "ipython3",
   "version": "3.11.6"
  }
 },
 "nbformat": 4,
 "nbformat_minor": 5
}
