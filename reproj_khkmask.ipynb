{
 "cells": [
  {
   "cell_type": "code",
   "execution_count": 12,
   "id": "cb166437-e85a-4eb0-b134-70fdfc218306",
   "metadata": {},
   "outputs": [],
   "source": [
    "import xarray as xr\n",
    "import pandas as pd\n",
    "import rasterio\n",
    "from rasterio.transform import from_origin\n",
    "import numpy as np\n",
    "from rasterio.warp import calculate_default_transform, reproject, Resampling\n",
    "import matplotlib.pyplot as plt\n",
    "from rasterio.plot import show"
   ]
  },
  {
   "cell_type": "code",
   "execution_count": 2,
   "id": "2e067d0c-5da6-4bad-871d-da420f9e4fb5",
   "metadata": {},
   "outputs": [],
   "source": [
    "file = r'/scratch/project_2000908/nousu/mNFI_to_NEP/MASKS/NF_SF_region_mask.nc'\n",
    "orig_data = xr.open_dataset(file)\n",
    "\n",
    "# Define the mapping: 'NF' -> 0.0, 'SF' -> 1.0, 'NA' -> np.nan\n",
    "mapping = {'NF': 0.0, 'SF': 1.0, 'NA': np.nan}\n",
    "\n",
    "# Apply the mapping to the 'region' variable\n",
    "region_numeric = xr.apply_ufunc(\n",
    "    lambda x: np.vectorize(mapping.get)(x),\n",
    "    orig_data['region'],\n",
    "    dask='allowed',\n",
    "    output_dtypes=[float]\n",
    ")\n",
    "\n",
    "# Create a new dataset including the numeric version\n",
    "data = xr.Dataset({'region': region_numeric})"
   ]
  },
  {
   "cell_type": "code",
   "execution_count": 4,
   "id": "63e7b877-ee84-4894-b16d-542fcfbf368a",
   "metadata": {},
   "outputs": [
    {
     "name": "stdout",
     "output_type": "stream",
     "text": [
      "Saved region reference grid to EPSG:3067\n"
     ]
    }
   ],
   "source": [
    "output_file_kkj = f'/scratch/project_2000908/nousu/mNFI_to_NEP/MASKS/khk_mask_kkj.tif'\n",
    "output_file_tm35fin = f'/scratch/project_2000908/nousu/mNFI_to_NEP/MASKS/khk_mask_tm35.tif'\n",
    "\n",
    "variable = 'region'\n",
    "datas = data[variable]\n",
    "lat = data['lat'].values\n",
    "lon = data['lon'].values\n",
    "values = datas.values\n",
    "values = np.flipud(values)  # flip vertically\n",
    "\n",
    "nodata_value = -9999\n",
    "values[np.isnan(values)] = nodata_value\n",
    "\n",
    "res_y = np.abs(lat[1] - lat[0])\n",
    "res_x = np.abs(lon[1] - lon[0])\n",
    "\n",
    "# Original transform in KKJ\n",
    "transform_kkj = from_origin(west=lon.min() - res_x / 2,\n",
    "                            north=lat.max() + res_y / 2,\n",
    "                            xsize=res_x,\n",
    "                            ysize=res_y)\n",
    "\n",
    "# Step 1: Save in original KKJ CRS (EPSG:2393 or your actual KKJ zone)\n",
    "with rasterio.open(\n",
    "    output_file_kkj,\n",
    "    \"w\",\n",
    "    driver=\"GTiff\",\n",
    "    height=values.shape[0],\n",
    "    width=values.shape[1],\n",
    "    count=1,\n",
    "    dtype=values.dtype,\n",
    "    crs=\"EPSG:2393\",  # KKJ / Finland zone 3\n",
    "    transform=transform_kkj,\n",
    "    nodata=nodata_value\n",
    ") as dst:\n",
    "    dst.write(values, 1)\n",
    "\n",
    "# Step 2: Reproject to EPSG:3067\n",
    "with rasterio.open(output_file_kkj) as src:\n",
    "    transform_3067, width, height = calculate_default_transform(\n",
    "        src.crs, \"EPSG:3067\", src.width, src.height, *src.bounds)\n",
    "\n",
    "    kwargs = src.meta.copy()\n",
    "    kwargs.update({\n",
    "        \"crs\": \"EPSG:3067\",\n",
    "        \"transform\": transform_3067,\n",
    "        \"width\": width,\n",
    "        \"height\": height\n",
    "    })\n",
    "\n",
    "    with rasterio.open(output_file_tm35fin, \"w\", **kwargs) as dst:\n",
    "        reproject(\n",
    "            source=rasterio.band(src, 1),\n",
    "            destination=rasterio.band(dst, 1),\n",
    "            src_transform=src.transform,\n",
    "            src_crs=src.crs,\n",
    "            dst_transform=transform_3067,\n",
    "            dst_crs=\"EPSG:3067\",\n",
    "            resampling=Resampling.nearest,\n",
    "            src_nodata=nodata_value,\n",
    "            dst_nodata=nodata_value\n",
    "        )\n",
    "\n",
    "print(f\"Saved {variable} reference grid to EPSG:3067\")"
   ]
  },
  {
   "cell_type": "code",
   "execution_count": 13,
   "id": "e4664273-6027-47da-9756-49c558717585",
   "metadata": {},
   "outputs": [
    {
     "data": {
      "image/png": "[encoded data removed]",
      "text/plain": [
       "<Figure size 640x480 with 1 Axes>"
      ]
     },
     "metadata": {},
     "output_type": "display_data"
    }
   ],
   "source": [
    "with rasterio.open(output_file_tm35fin) as src:\n",
    "    data = src.read(1)\n",
    "    meta = src.meta\n",
    "    show(src)"
   ]
  },
  {
   "cell_type": "code",
   "execution_count": null,
   "id": "d5e8520a-79d6-4149-9cf7-c77f95529808",
   "metadata": {},
   "outputs": [],
   "source": []
  }
 ],
 "metadata": {
  "kernelspec": {
   "display_name": "Python 3 (ipykernel)",
   "language": "python",
   "name": "python3"
  },
  "language_info": {
   "codemirror_mode": {
    "name": "ipython",
    "version": 3
   },
   "file_extension": ".py",
   "mimetype": "text/x-python",
   "name": "python",
   "nbconvert_exporter": "python",
   "pygments_lexer": "ipython3",
   "version": "3.11.6"
  }
 },
 "nbformat": 4,
 "nbformat_minor": 5
}
