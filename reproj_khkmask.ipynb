{
 "cells": [
  {
   "cell_type": "code",
   "execution_count": 1,
   "id": "cb166437-e85a-4eb0-b134-70fdfc218306",
   "metadata": {},
   "outputs": [],
   "source": [
    "import xarray as xr\n",
    "import pandas as pd\n",
    "import rasterio\n",
    "from rasterio.transform import from_origin\n",
    "import numpy as np\n",
    "from rasterio.warp import calculate_default_transform, reproject, Resampling\n",
    "import matplotlib.pyplot as plt\n",
    "from rasterio.plot import show"
   ]
  },
  {
   "cell_type": "code",
   "execution_count": 3,
   "id": "d5e8520a-79d6-4149-9cf7-c77f95529808",
   "metadata": {},
   "outputs": [
    {
     "name": "stdout",
     "output_type": "stream",
     "text": [
      "Reprojected to EPSG:3067 → /scratch/project_2000908/nousu/mNFI_to_NEP/MASKS/khk_mask_tm35.tif\n",
      "Resampled to match reference grid → /scratch/project_2000908/nousu/mNFI_to_NEP/MASKS/khk_mask_10x10.tif\n"
     ]
    }
   ],
   "source": [
    "# --- Step 0: Read and map the NetCDF data ---\n",
    "file = '/scratch/project_2000908/nousu/mNFI_to_NEP/MASKS/NF_SF_region_mask.nc'\n",
    "orig_data = xr.open_dataset(file)\n",
    "\n",
    "# Define the mapping: 'NF' -> 0.0, 'SF' -> 1.0, 'NA' -> np.nan\n",
    "mapping = {'NF': 0.0, 'SF': 1.0, 'NA': np.nan}\n",
    "\n",
    "# Apply mapping\n",
    "region_numeric = xr.apply_ufunc(\n",
    "    lambda x: np.vectorize(mapping.get)(x),\n",
    "    orig_data['region'],\n",
    "    dask='allowed',\n",
    "    output_dtypes=[float]\n",
    ")\n",
    "\n",
    "data = xr.Dataset({'region': region_numeric})\n",
    "variable = 'region'\n",
    "datas = data[variable]\n",
    "lat = data['lat'].values\n",
    "lon = data['lon'].values\n",
    "values = datas.values\n",
    "values = np.flipud(values)  # flip vertically for rasterio\n",
    "\n",
    "# --- Constants ---\n",
    "nodata_value = -9999\n",
    "values[np.isnan(values)] = nodata_value\n",
    "\n",
    "res_y = np.abs(lat[1] - lat[0])\n",
    "res_x = np.abs(lon[1] - lon[0])\n",
    "\n",
    "# --- Step 1: Save to GeoTIFF in EPSG:2393 (KKJ) ---\n",
    "output_file_kkj = '/scratch/project_2000908/nousu/mNFI_to_NEP/MASKS/khk_mask_kkj.tif'\n",
    "output_file_tm35fin = '/scratch/project_2000908/nousu/mNFI_to_NEP/MASKS/khk_mask_tm35.tif'\n",
    "output_file_resampled = '/scratch/project_2000908/nousu/mNFI_to_NEP/MASKS/khk_mask_10x10.tif'\n",
    "reference_grid_path = '/scratch/project_2000908/nousu/mNFI_to_NEP/METEO/AVGS/air_temperature.tif'\n",
    "\n",
    "transform_kkj = from_origin(west=lon.min() - res_x / 2,\n",
    "                            north=lat.max() + res_y / 2,\n",
    "                            xsize=res_x,\n",
    "                            ysize=res_y)\n",
    "\n",
    "with rasterio.open(\n",
    "    output_file_kkj, \"w\", driver=\"GTiff\",\n",
    "    height=values.shape[0],\n",
    "    width=values.shape[1],\n",
    "    count=1,\n",
    "    dtype=values.dtype,\n",
    "    crs=\"EPSG:2393\",\n",
    "    transform=transform_kkj,\n",
    "    nodata=nodata_value\n",
    ") as dst:\n",
    "    dst.write(values, 1)\n",
    "\n",
    "# --- Step 2: Reproject to EPSG:3067 ---\n",
    "with rasterio.open(output_file_kkj) as src:\n",
    "    transform_3067, width, height = calculate_default_transform(\n",
    "        src.crs, \"EPSG:3067\", src.width, src.height, *src.bounds)\n",
    "\n",
    "    kwargs = src.meta.copy()\n",
    "    kwargs.update({\n",
    "        \"crs\": \"EPSG:3067\",\n",
    "        \"transform\": transform_3067,\n",
    "        \"width\": width,\n",
    "        \"height\": height\n",
    "    })\n",
    "\n",
    "    with rasterio.open(output_file_tm35fin, \"w\", **kwargs) as dst:\n",
    "        reproject(\n",
    "            source=rasterio.band(src, 1),\n",
    "            destination=rasterio.band(dst, 1),\n",
    "            src_transform=src.transform,\n",
    "            src_crs=src.crs,\n",
    "            dst_transform=transform_3067,\n",
    "            dst_crs=\"EPSG:3067\",\n",
    "            resampling=Resampling.nearest,\n",
    "            src_nodata=nodata_value,\n",
    "            dst_nodata=nodata_value\n",
    "        )\n",
    "\n",
    "print(f\"Reprojected to EPSG:3067 → {output_file_tm35fin}\")\n",
    "\n",
    "# --- Step 3: Resample to match reference grid (e.g., METEO) ---\n",
    "with rasterio.open(reference_grid_path) as ref:\n",
    "    ref_profile = ref.profile\n",
    "    ref_transform = ref.transform\n",
    "    ref_crs = ref.crs\n",
    "    ref_width = ref.width\n",
    "    ref_height = ref.height\n",
    "\n",
    "with rasterio.open(output_file_tm35fin) as src:\n",
    "    src_data = src.read(1)\n",
    "    dst_data = np.full((ref_height, ref_width), nodata_value, dtype=src_data.dtype)\n",
    "\n",
    "    reproject(\n",
    "        source=src_data,\n",
    "        destination=dst_data,\n",
    "        src_transform=src.transform,\n",
    "        src_crs=src.crs,\n",
    "        dst_transform=ref_transform,\n",
    "        dst_crs=ref_crs,\n",
    "        resampling=Resampling.nearest,\n",
    "        src_nodata=nodata_value,\n",
    "        dst_nodata=nodata_value\n",
    "    )\n",
    "\n",
    "    out_profile = ref_profile.copy()\n",
    "    out_profile.update({\n",
    "        \"driver\": \"GTiff\",\n",
    "        \"nodata\": nodata_value\n",
    "    })\n",
    "\n",
    "    with rasterio.open(output_file_resampled, \"w\", **out_profile) as dst:\n",
    "        dst.write(dst_data, 1)\n",
    "\n",
    "print(f\"Resampled to match reference grid → {output_file_resampled}\")"
   ]
  },
  {
   "cell_type": "code",
   "execution_count": 4,
   "id": "6c44f25e-1ffd-4865-8472-07b88c6c7e1f",
   "metadata": {},
   "outputs": [
    {
     "data": {
      "image/png": "[encoded data removed]",
      "text/plain": [
       "<Figure size 640x480 with 1 Axes>"
      ]
     },
     "metadata": {},
     "output_type": "display_data"
    }
   ],
   "source": [
    "file = r'/scratch/project_2000908/nousu/mNFI_to_NEP/MASKS/khk_mask_10x10.tif'\n",
    "with rasterio.open(file) as src:\n",
    "    data = src.read(1)\n",
    "    show(src)"
   ]
  },
  {
   "cell_type": "code",
   "execution_count": null,
   "id": "18bfd156-64a6-493c-84fd-b6ccb34297d8",
   "metadata": {},
   "outputs": [],
   "source": []
  }
 ],
 "metadata": {
  "kernelspec": {
   "display_name": "Python 3 (ipykernel)",
   "language": "python",
   "name": "python3"
  },
  "language_info": {
   "codemirror_mode": {
    "name": "ipython",
    "version": 3
   },
   "file_extension": ".py",
   "mimetype": "text/x-python",
   "name": "python",
   "nbconvert_exporter": "python",
   "pygments_lexer": "ipython3",
   "version": "3.11.6"
  }
 },
 "nbformat": 4,
 "nbformat_minor": 5
}
