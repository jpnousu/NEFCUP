{
 "cells": [
  {
   "cell_type": "markdown",
   "id": "fc27f8c3-724c-4b80-b28f-e915fde06950",
   "metadata": {},
   "source": [
    "### Resamples and reprojects the 'classified' mnfi .tif files. Uses reference grid."
   ]
  },
  {
   "cell_type": "code",
   "execution_count": 1,
   "id": "11cfd139-0f00-4648-8150-dc11d712c52d",
   "metadata": {},
   "outputs": [],
   "source": [
    "import os\n",
    "import numpy as np\n",
    "import rasterio\n",
    "from rasterio.warp import reproject, Resampling, calculate_default_transform\n",
    "from rasterio.enums import Resampling as ResamplingEnum\n",
    "from rasterio.coords import BoundingBox\n",
    "from rasterio.plot import show"
   ]
  },
  {
   "cell_type": "code",
   "execution_count": 2,
   "id": "cfbe3e24-7131-4381-a90d-e71cd80c045a",
   "metadata": {},
   "outputs": [
    {
     "name": "stdout",
     "output_type": "stream",
     "text": [
      "Processing file: ika_2_1_2.tif\n"
     ]
    },
    {
     "name": "stderr",
     "output_type": "stream",
     "text": [
      "/run/nvme/job_27680130/tmp/ipykernel_2487566/807077264.py:48: RuntimeWarning: Mean of empty slice\n",
      "  block_means = np.nanmean(data_blocks, axis=(1, 3))\n"
     ]
    },
    {
     "name": "stdout",
     "output_type": "stream",
     "text": [
      "Saved reprojected raster to: /scratch/project_2000908/nousu/mNFI_to_NEP/classified_mnfi_10x10_reproj/reprojected_ika_2_1_2.tif\n",
      "Processing file: ika_2_2_2.tif\n"
     ]
    },
    {
     "name": "stderr",
     "output_type": "stream",
     "text": [
      "/run/nvme/job_27680130/tmp/ipykernel_2487566/807077264.py:48: RuntimeWarning: Mean of empty slice\n",
      "  block_means = np.nanmean(data_blocks, axis=(1, 3))\n"
     ]
    },
    {
     "name": "stdout",
     "output_type": "stream",
     "text": [
      "Saved reprojected raster to: /scratch/project_2000908/nousu/mNFI_to_NEP/classified_mnfi_10x10_reproj/reprojected_ika_2_2_2.tif\n",
      "Processing file: ika_3_1_2.tif\n"
     ]
    },
    {
     "name": "stderr",
     "output_type": "stream",
     "text": [
      "/run/nvme/job_27680130/tmp/ipykernel_2487566/807077264.py:48: RuntimeWarning: Mean of empty slice\n",
      "  block_means = np.nanmean(data_blocks, axis=(1, 3))\n"
     ]
    },
    {
     "name": "stdout",
     "output_type": "stream",
     "text": [
      "Saved reprojected raster to: /scratch/project_2000908/nousu/mNFI_to_NEP/classified_mnfi_10x10_reproj/reprojected_ika_3_1_2.tif\n",
      "Processing file: ika_1_2_1.tif\n"
     ]
    },
    {
     "name": "stderr",
     "output_type": "stream",
     "text": [
      "/run/nvme/job_27680130/tmp/ipykernel_2487566/807077264.py:48: RuntimeWarning: Mean of empty slice\n",
      "  block_means = np.nanmean(data_blocks, axis=(1, 3))\n"
     ]
    },
    {
     "name": "stdout",
     "output_type": "stream",
     "text": [
      "Saved reprojected raster to: /scratch/project_2000908/nousu/mNFI_to_NEP/classified_mnfi_10x10_reproj/reprojected_ika_1_2_1.tif\n",
      "Processing file: ika_1_1_2.tif\n"
     ]
    },
    {
     "name": "stderr",
     "output_type": "stream",
     "text": [
      "/run/nvme/job_27680130/tmp/ipykernel_2487566/807077264.py:48: RuntimeWarning: Mean of empty slice\n",
      "  block_means = np.nanmean(data_blocks, axis=(1, 3))\n"
     ]
    },
    {
     "name": "stdout",
     "output_type": "stream",
     "text": [
      "Saved reprojected raster to: /scratch/project_2000908/nousu/mNFI_to_NEP/classified_mnfi_10x10_reproj/reprojected_ika_1_1_2.tif\n",
      "Processing file: ppa_2_1_1.tif\n"
     ]
    },
    {
     "name": "stderr",
     "output_type": "stream",
     "text": [
      "/run/nvme/job_27680130/tmp/ipykernel_2487566/807077264.py:48: RuntimeWarning: Mean of empty slice\n",
      "  block_means = np.nanmean(data_blocks, axis=(1, 3))\n"
     ]
    },
    {
     "name": "stdout",
     "output_type": "stream",
     "text": [
      "Saved reprojected raster to: /scratch/project_2000908/nousu/mNFI_to_NEP/classified_mnfi_10x10_reproj/reprojected_ppa_2_1_1.tif\n",
      "Processing file: ika_2_1_1.tif\n"
     ]
    },
    {
     "name": "stderr",
     "output_type": "stream",
     "text": [
      "/run/nvme/job_27680130/tmp/ipykernel_2487566/807077264.py:48: RuntimeWarning: Mean of empty slice\n",
      "  block_means = np.nanmean(data_blocks, axis=(1, 3))\n"
     ]
    },
    {
     "name": "stdout",
     "output_type": "stream",
     "text": [
      "Saved reprojected raster to: /scratch/project_2000908/nousu/mNFI_to_NEP/classified_mnfi_10x10_reproj/reprojected_ika_2_1_1.tif\n",
      "Processing file: ika_3_2_2.tif\n"
     ]
    },
    {
     "name": "stderr",
     "output_type": "stream",
     "text": [
      "/run/nvme/job_27680130/tmp/ipykernel_2487566/807077264.py:48: RuntimeWarning: Mean of empty slice\n",
      "  block_means = np.nanmean(data_blocks, axis=(1, 3))\n"
     ]
    },
    {
     "name": "stdout",
     "output_type": "stream",
     "text": [
      "Saved reprojected raster to: /scratch/project_2000908/nousu/mNFI_to_NEP/classified_mnfi_10x10_reproj/reprojected_ika_3_2_2.tif\n",
      "Processing file: ppa_1_1_2.tif\n"
     ]
    },
    {
     "name": "stderr",
     "output_type": "stream",
     "text": [
      "/run/nvme/job_27680130/tmp/ipykernel_2487566/807077264.py:48: RuntimeWarning: Mean of empty slice\n",
      "  block_means = np.nanmean(data_blocks, axis=(1, 3))\n"
     ]
    },
    {
     "name": "stdout",
     "output_type": "stream",
     "text": [
      "Saved reprojected raster to: /scratch/project_2000908/nousu/mNFI_to_NEP/classified_mnfi_10x10_reproj/reprojected_ppa_1_1_2.tif\n",
      "Processing file: ika_3_1_1.tif\n"
     ]
    },
    {
     "name": "stderr",
     "output_type": "stream",
     "text": [
      "/run/nvme/job_27680130/tmp/ipykernel_2487566/807077264.py:48: RuntimeWarning: Mean of empty slice\n",
      "  block_means = np.nanmean(data_blocks, axis=(1, 3))\n"
     ]
    },
    {
     "name": "stdout",
     "output_type": "stream",
     "text": [
      "Saved reprojected raster to: /scratch/project_2000908/nousu/mNFI_to_NEP/classified_mnfi_10x10_reproj/reprojected_ika_3_1_1.tif\n",
      "Processing file: ika_1_1_1.tif\n"
     ]
    },
    {
     "name": "stderr",
     "output_type": "stream",
     "text": [
      "/run/nvme/job_27680130/tmp/ipykernel_2487566/807077264.py:48: RuntimeWarning: Mean of empty slice\n",
      "  block_means = np.nanmean(data_blocks, axis=(1, 3))\n"
     ]
    },
    {
     "name": "stdout",
     "output_type": "stream",
     "text": [
      "Saved reprojected raster to: /scratch/project_2000908/nousu/mNFI_to_NEP/classified_mnfi_10x10_reproj/reprojected_ika_1_1_1.tif\n",
      "Processing file: ppa_3_2_1.tif\n"
     ]
    },
    {
     "name": "stderr",
     "output_type": "stream",
     "text": [
      "/run/nvme/job_27680130/tmp/ipykernel_2487566/807077264.py:48: RuntimeWarning: Mean of empty slice\n",
      "  block_means = np.nanmean(data_blocks, axis=(1, 3))\n"
     ]
    },
    {
     "name": "stdout",
     "output_type": "stream",
     "text": [
      "Saved reprojected raster to: /scratch/project_2000908/nousu/mNFI_to_NEP/classified_mnfi_10x10_reproj/reprojected_ppa_3_2_1.tif\n",
      "Processing file: ppa_2_1_2.tif\n"
     ]
    },
    {
     "name": "stderr",
     "output_type": "stream",
     "text": [
      "/run/nvme/job_27680130/tmp/ipykernel_2487566/807077264.py:48: RuntimeWarning: Mean of empty slice\n",
      "  block_means = np.nanmean(data_blocks, axis=(1, 3))\n"
     ]
    },
    {
     "name": "stdout",
     "output_type": "stream",
     "text": [
      "Saved reprojected raster to: /scratch/project_2000908/nousu/mNFI_to_NEP/classified_mnfi_10x10_reproj/reprojected_ppa_2_1_2.tif\n",
      "Processing file: ppa_2_2_1.tif\n"
     ]
    },
    {
     "name": "stderr",
     "output_type": "stream",
     "text": [
      "/run/nvme/job_27680130/tmp/ipykernel_2487566/807077264.py:48: RuntimeWarning: Mean of empty slice\n",
      "  block_means = np.nanmean(data_blocks, axis=(1, 3))\n"
     ]
    },
    {
     "name": "stdout",
     "output_type": "stream",
     "text": [
      "Saved reprojected raster to: /scratch/project_2000908/nousu/mNFI_to_NEP/classified_mnfi_10x10_reproj/reprojected_ppa_2_2_1.tif\n",
      "Processing file: ppa_1_2_1.tif\n"
     ]
    },
    {
     "name": "stderr",
     "output_type": "stream",
     "text": [
      "/run/nvme/job_27680130/tmp/ipykernel_2487566/807077264.py:48: RuntimeWarning: Mean of empty slice\n",
      "  block_means = np.nanmean(data_blocks, axis=(1, 3))\n"
     ]
    },
    {
     "name": "stdout",
     "output_type": "stream",
     "text": [
      "Saved reprojected raster to: /scratch/project_2000908/nousu/mNFI_to_NEP/classified_mnfi_10x10_reproj/reprojected_ppa_1_2_1.tif\n",
      "Processing file: ppa_3_2_2.tif\n"
     ]
    },
    {
     "name": "stderr",
     "output_type": "stream",
     "text": [
      "/run/nvme/job_27680130/tmp/ipykernel_2487566/807077264.py:48: RuntimeWarning: Mean of empty slice\n",
      "  block_means = np.nanmean(data_blocks, axis=(1, 3))\n"
     ]
    },
    {
     "name": "stdout",
     "output_type": "stream",
     "text": [
      "Saved reprojected raster to: /scratch/project_2000908/nousu/mNFI_to_NEP/classified_mnfi_10x10_reproj/reprojected_ppa_3_2_2.tif\n",
      "Processing file: ppa_3_1_2.tif\n"
     ]
    },
    {
     "name": "stderr",
     "output_type": "stream",
     "text": [
      "/run/nvme/job_27680130/tmp/ipykernel_2487566/807077264.py:48: RuntimeWarning: Mean of empty slice\n",
      "  block_means = np.nanmean(data_blocks, axis=(1, 3))\n"
     ]
    },
    {
     "name": "stdout",
     "output_type": "stream",
     "text": [
      "Saved reprojected raster to: /scratch/project_2000908/nousu/mNFI_to_NEP/classified_mnfi_10x10_reproj/reprojected_ppa_3_1_2.tif\n",
      "Processing file: ppa_1_2_2.tif\n"
     ]
    },
    {
     "name": "stderr",
     "output_type": "stream",
     "text": [
      "/run/nvme/job_27680130/tmp/ipykernel_2487566/807077264.py:48: RuntimeWarning: Mean of empty slice\n",
      "  block_means = np.nanmean(data_blocks, axis=(1, 3))\n"
     ]
    },
    {
     "name": "stdout",
     "output_type": "stream",
     "text": [
      "Saved reprojected raster to: /scratch/project_2000908/nousu/mNFI_to_NEP/classified_mnfi_10x10_reproj/reprojected_ppa_1_2_2.tif\n",
      "Processing file: ika_2_2_1.tif\n"
     ]
    },
    {
     "name": "stderr",
     "output_type": "stream",
     "text": [
      "/run/nvme/job_27680130/tmp/ipykernel_2487566/807077264.py:48: RuntimeWarning: Mean of empty slice\n",
      "  block_means = np.nanmean(data_blocks, axis=(1, 3))\n"
     ]
    },
    {
     "name": "stdout",
     "output_type": "stream",
     "text": [
      "Saved reprojected raster to: /scratch/project_2000908/nousu/mNFI_to_NEP/classified_mnfi_10x10_reproj/reprojected_ika_2_2_1.tif\n",
      "Processing file: ppa_3_1_1.tif\n"
     ]
    },
    {
     "name": "stderr",
     "output_type": "stream",
     "text": [
      "/run/nvme/job_27680130/tmp/ipykernel_2487566/807077264.py:48: RuntimeWarning: Mean of empty slice\n",
      "  block_means = np.nanmean(data_blocks, axis=(1, 3))\n"
     ]
    },
    {
     "name": "stdout",
     "output_type": "stream",
     "text": [
      "Saved reprojected raster to: /scratch/project_2000908/nousu/mNFI_to_NEP/classified_mnfi_10x10_reproj/reprojected_ppa_3_1_1.tif\n",
      "Processing file: ika_1_2_2.tif\n"
     ]
    },
    {
     "name": "stderr",
     "output_type": "stream",
     "text": [
      "/run/nvme/job_27680130/tmp/ipykernel_2487566/807077264.py:48: RuntimeWarning: Mean of empty slice\n",
      "  block_means = np.nanmean(data_blocks, axis=(1, 3))\n"
     ]
    },
    {
     "name": "stdout",
     "output_type": "stream",
     "text": [
      "Saved reprojected raster to: /scratch/project_2000908/nousu/mNFI_to_NEP/classified_mnfi_10x10_reproj/reprojected_ika_1_2_2.tif\n",
      "Processing file: ppa_1_1_1.tif\n"
     ]
    },
    {
     "name": "stderr",
     "output_type": "stream",
     "text": [
      "/run/nvme/job_27680130/tmp/ipykernel_2487566/807077264.py:48: RuntimeWarning: Mean of empty slice\n",
      "  block_means = np.nanmean(data_blocks, axis=(1, 3))\n"
     ]
    },
    {
     "name": "stdout",
     "output_type": "stream",
     "text": [
      "Saved reprojected raster to: /scratch/project_2000908/nousu/mNFI_to_NEP/classified_mnfi_10x10_reproj/reprojected_ppa_1_1_1.tif\n",
      "Processing file: ppa_2_2_2.tif\n"
     ]
    },
    {
     "name": "stderr",
     "output_type": "stream",
     "text": [
      "/run/nvme/job_27680130/tmp/ipykernel_2487566/807077264.py:48: RuntimeWarning: Mean of empty slice\n",
      "  block_means = np.nanmean(data_blocks, axis=(1, 3))\n"
     ]
    },
    {
     "name": "stdout",
     "output_type": "stream",
     "text": [
      "Saved reprojected raster to: /scratch/project_2000908/nousu/mNFI_to_NEP/classified_mnfi_10x10_reproj/reprojected_ppa_2_2_2.tif\n",
      "Processing file: ika_3_2_1.tif\n",
      "Saved reprojected raster to: /scratch/project_2000908/nousu/mNFI_to_NEP/classified_mnfi_10x10_reproj/reprojected_ika_3_2_1.tif\n",
      "All files processed.\n"
     ]
    },
    {
     "name": "stderr",
     "output_type": "stream",
     "text": [
      "/run/nvme/job_27680130/tmp/ipykernel_2487566/807077264.py:48: RuntimeWarning: Mean of empty slice\n",
      "  block_means = np.nanmean(data_blocks, axis=(1, 3))\n"
     ]
    }
   ],
   "source": [
    "# Directories\n",
    "input_directory = \"/scratch/project_2000908/nousu/mNFI_to_NEP/classified_mnfi/\"\n",
    "output_resampled_directory = \"/scratch/project_2000908/nousu/mNFI_to_NEP/classified_mnfi_10x10/\"\n",
    "output_reprojected_directory = \"/scratch/project_2000908/nousu/mNFI_to_NEP/classified_mnfi_10x10_reproj/\"\n",
    "reference_grid_path = \"/scratch/project_2000908/nousu/mNFI_to_NEP/air_temperature.tif\"\n",
    "\n",
    "# Parameters\n",
    "block_size = int(10000 / 16)  # 10 km / 16 m resolution = 625\n",
    "nodata_value = -9999\n",
    "\n",
    "# Ensure output directories exist\n",
    "os.makedirs(output_resampled_directory, exist_ok=True)\n",
    "os.makedirs(output_reprojected_directory, exist_ok=True)\n",
    "\n",
    "# List .tif files in input directory\n",
    "input_files = [f for f in os.listdir(input_directory) if f.endswith('.tif')]\n",
    "\n",
    "# Load reference raster transform and shape\n",
    "with rasterio.open(reference_grid_path) as ref:\n",
    "    target_crs = ref.crs\n",
    "    target_transform = ref.transform\n",
    "    target_width = ref.width\n",
    "    target_height = ref.height\n",
    "\n",
    "# Process each file\n",
    "for input_file in input_files:\n",
    "    print(f\"Processing file: {input_file}\")\n",
    "\n",
    "    input_path = os.path.join(input_directory, input_file)\n",
    "    resampled_output_path = os.path.join(output_resampled_directory, f\"{input_file}\")\n",
    "    reprojected_output_path = os.path.join(output_reprojected_directory, f\"{input_file}\")\n",
    "\n",
    "    # Resample to 10x10 km\n",
    "    with rasterio.open(input_path) as src:\n",
    "        data = src.read(1)\n",
    "        data[data == nodata_value] = np.nan\n",
    "\n",
    "        h, w = data.shape\n",
    "        h_crop = (h // block_size) * block_size\n",
    "        w_crop = (w // block_size) * block_size\n",
    "        data = data[:h_crop, :w_crop]\n",
    "\n",
    "        # Block-wise averaging\n",
    "        data_blocks = data.reshape(h_crop // block_size, block_size, -1, block_size)\n",
    "        block_means = np.nanmean(data_blocks, axis=(1, 3))\n",
    "\n",
    "        # Compute new transform for resampled raster\n",
    "        new_transform = rasterio.Affine(\n",
    "            src.transform.a * block_size, 0, src.transform.c,\n",
    "            0, src.transform.e * block_size, src.transform.f\n",
    "        )\n",
    "\n",
    "        with rasterio.open(\n",
    "            resampled_output_path,\n",
    "            'w',\n",
    "            driver='GTiff',\n",
    "            height=block_means.shape[0],\n",
    "            width=block_means.shape[1],\n",
    "            count=1,\n",
    "            dtype=block_means.dtype,\n",
    "            crs=src.crs,\n",
    "            transform=new_transform,\n",
    "            nodata=nodata_value\n",
    "        ) as dst:\n",
    "            dst.write(block_means, 1)\n",
    "\n",
    "    # Reproject to match reference raster\n",
    "    with rasterio.open(resampled_output_path) as src:\n",
    "        src_array = src.read(1)\n",
    "        src_transform = src.transform\n",
    "        src_crs = src.crs\n",
    "\n",
    "        reprojected_array = np.full((target_height, target_width), nodata_value, dtype=np.float32)\n",
    "\n",
    "        reproject(\n",
    "            source=src_array,\n",
    "            destination=reprojected_array,\n",
    "            src_transform=src_transform,\n",
    "            src_crs=src_crs,\n",
    "            dst_transform=target_transform,\n",
    "            dst_crs=target_crs,\n",
    "            resampling=ResamplingEnum.nearest,\n",
    "            src_nodata=nodata_value,\n",
    "            dst_nodata=nodata_value\n",
    "        )\n",
    "\n",
    "        with rasterio.open(\n",
    "            reprojected_output_path,\n",
    "            'w',\n",
    "            driver='GTiff',\n",
    "            height=target_height,\n",
    "            width=target_width,\n",
    "            count=1,\n",
    "            dtype=reprojected_array.dtype,\n",
    "            crs=target_crs,\n",
    "            transform=target_transform,\n",
    "            nodata=nodata_value\n",
    "        ) as dst:\n",
    "            dst.write(reprojected_array, 1)\n",
    "\n",
    "    print(f\"Saved reprojected raster to: {reprojected_output_path}\")\n",
    "\n",
    "print(\"All files processed.\")"
   ]
  },
  {
   "cell_type": "code",
   "execution_count": 36,
   "id": "201e571f-02ec-4c81-ae6e-57c55f7508a1",
   "metadata": {},
   "outputs": [
    {
     "name": "stdout",
     "output_type": "stream",
     "text": [
      "{'driver': 'GTiff', 'dtype': 'float32', 'nodata': -9999.0, 'width': 67, 'height': 117, 'count': 1, 'crs': CRS.from_epsg(3067), 'transform': Affine(10000.0, 0.0, 61592.0,\n",
      "       0.0, -10000.0, 7778312.0)}\n"
     ]
    },
    {
     "data": {
      "text/plain": [
       "<matplotlib.colorbar.Colorbar at 0x7f8c603effd0>"
      ]
     },
     "execution_count": 36,
     "metadata": {},
     "output_type": "execute_result"
    },
    {
     "data": {
      "image/png": "[encoded data removed]",
      "text/plain": [
       "<Figure size 640x480 with 2 Axes>"
      ]
     },
     "metadata": {},
     "output_type": "display_data"
    }
   ],
   "source": [
    "import matplotlib.pyplot as plt\n",
    "\n",
    "file = r'/scratch/project_2000908/nousu/mNFI_to_NEP/classified_mnfi_10x10_reproj/reprojected_ika_1_1_1.tif'\n",
    "with rasterio.open(file) as src:\n",
    "    data = src.read(1)\n",
    "    meta = src.meta\n",
    "    #show(src)\n",
    "    print(meta)\n",
    "plt.imshow(data, vmin=0, vmax=150, cmap='viridis')  # replace show(src)\n",
    "plt.title('ikä')\n",
    "plt.colorbar()"
   ]
  },
  {
   "cell_type": "code",
   "execution_count": 4,
   "id": "8ea70795-3e79-4adf-9b10-d911596c8703",
   "metadata": {},
   "outputs": [
    {
     "data": {
      "image/png": "[encoded data removed]",
      "text/plain": [
       "<Figure size 640x480 with 1 Axes>"
      ]
     },
     "metadata": {},
     "output_type": "display_data"
    },
    {
     "name": "stdout",
     "output_type": "stream",
     "text": [
      "{'driver': 'GTiff', 'dtype': 'float32', 'nodata': -9999.0, 'width': 67, 'height': 117, 'count': 1, 'crs': CRS.from_epsg(3067), 'transform': Affine(10000.0, 0.0, 61592.0,\n",
      "       0.0, -10000.0, 7778312.0)}\n"
     ]
    }
   ],
   "source": [
    "file = r'/scratch/project_2000908/nousu/mNFI_to_NEP/classified_mnfi_10x10/resampled_ika_2_2_2.tif'\n",
    "with rasterio.open(file) as src:\n",
    "    data = src.read(1)\n",
    "    meta = src.meta\n",
    "    show(src)\n",
    "    print(meta)"
   ]
  },
  {
   "cell_type": "code",
   "execution_count": null,
   "id": "10cec992-ea8c-4dff-80ee-e9aa3e17407d",
   "metadata": {},
   "outputs": [],
   "source": []
  }
 ],
 "metadata": {
  "kernelspec": {
   "display_name": "Python 3 (ipykernel)",
   "language": "python",
   "name": "python3"
  },
  "language_info": {
   "codemirror_mode": {
    "name": "ipython",
    "version": 3
   },
   "file_extension": ".py",
   "mimetype": "text/x-python",
   "name": "python",
   "nbconvert_exporter": "python",
   "pygments_lexer": "ipython3",
   "version": "3.11.6"
  }
 },
 "nbformat": 4,
 "nbformat_minor": 5
}
